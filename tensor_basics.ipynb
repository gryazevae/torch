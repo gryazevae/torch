{
 "cells": [
  {
   "cell_type": "code",
   "execution_count": 1,
   "metadata": {},
   "outputs": [],
   "source": [
    "import torch"
   ]
  },
  {
   "cell_type": "markdown",
   "metadata": {},
   "source": [
    "Тензорное произведение"
   ]
  },
  {
   "cell_type": "code",
   "execution_count": 9,
   "metadata": {},
   "outputs": [],
   "source": [
    "a = torch.rand(2,3,7)\n",
    "b = torch.rand(3,7,2)"
   ]
  },
  {
   "cell_type": "code",
   "execution_count": 10,
   "metadata": {},
   "outputs": [
    {
     "data": {
      "text/plain": [
       "torch.Size([2, 3, 3, 2])"
      ]
     },
     "execution_count": 10,
     "metadata": {},
     "output_type": "execute_result"
    }
   ],
   "source": [
    "torch.tensordot(a, b, dims = ([2], [1])).shape"
   ]
  },
  {
   "cell_type": "code",
   "execution_count": 11,
   "metadata": {},
   "outputs": [
    {
     "data": {
      "text/plain": [
       "tensor([[[[1.8250, 1.6204],\n",
       "          [2.1325, 2.1334],\n",
       "          [2.3840, 2.5872]],\n",
       "\n",
       "         [[1.4492, 1.4626],\n",
       "          [1.9839, 1.9724],\n",
       "          [2.7323, 3.0839]],\n",
       "\n",
       "         [[2.1991, 1.7602],\n",
       "          [1.8928, 2.6278],\n",
       "          [2.5060, 2.5836]]],\n",
       "\n",
       "\n",
       "        [[[1.4197, 1.1322],\n",
       "          [1.5378, 2.0327],\n",
       "          [1.9429, 2.1694]],\n",
       "\n",
       "         [[1.7598, 1.6068],\n",
       "          [2.1453, 2.5930],\n",
       "          [2.7486, 2.8378]],\n",
       "\n",
       "         [[1.4366, 1.7242],\n",
       "          [2.0458, 2.2519],\n",
       "          [2.8668, 2.6007]]]])"
      ]
     },
     "execution_count": 11,
     "metadata": {},
     "output_type": "execute_result"
    }
   ],
   "source": [
    "torch.tensordot(a, b, dims = ([2], [1]))#.shape"
   ]
  },
  {
   "cell_type": "markdown",
   "metadata": {},
   "source": [
    "Внимание на коленке"
   ]
  },
  {
   "cell_type": "code",
   "execution_count": 12,
   "metadata": {},
   "outputs": [],
   "source": [
    "d = 13 # whocj is better?\n",
    "N_tokens = 256\n",
    "h = torch.rand(N_tokens, d)\n",
    "Q = torch.rand(d, d)\n",
    "K = torch.rand(d, d)\n",
    "V = torch.rand(d, d)"
   ]
  },
  {
   "cell_type": "code",
   "execution_count": null,
   "metadata": {},
   "outputs": [],
   "source": [
    "z = torch.tensordot()"
   ]
  }
 ],
 "metadata": {
  "kernelspec": {
   "display_name": "Python 3",
   "language": "python",
   "name": "python3"
  },
  "language_info": {
   "codemirror_mode": {
    "name": "ipython",
    "version": 3
   },
   "file_extension": ".py",
   "mimetype": "text/x-python",
   "name": "python",
   "nbconvert_exporter": "python",
   "pygments_lexer": "ipython3",
   "version": "3.11.4"
  },
  "orig_nbformat": 4
 },
 "nbformat": 4,
 "nbformat_minor": 2
}
